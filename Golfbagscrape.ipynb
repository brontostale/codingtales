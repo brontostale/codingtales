{
 "cells": [
  {
   "cell_type": "code",
   "execution_count": 25,
   "metadata": {},
   "outputs": [],
   "source": [
    "import bs4\n",
    "from urllib.request import urlopen as uReq\n",
    "from bs4 import BeautifulSoup \n",
    "import requests\n",
    "import smtplib\n",
    "import time\n",
    "import datetime\n"
   ]
  },
  {
   "cell_type": "code",
   "execution_count": 26,
   "metadata": {},
   "outputs": [],
   "source": [
    "import datetime\n",
    "today = datetime.date.today()"
   ]
  },
  {
   "cell_type": "code",
   "execution_count": 27,
   "metadata": {},
   "outputs": [],
   "source": [
    "def check_price():\n",
    "    URL = 'https://www.amazon.com/Cobra-Ultralight-Stand-Shade-Vibrant-Orange/dp/B081XSTYKT/ref=sxin_13_ac_d_mf_br?ac_md=6-3-Q29icmEgR29sZg%3D%3D-ac_d_mf_br_br&crid=30HETM7KEJYWC&cv_ct_cx=golf%2Bbags&keywords=golf%2Bbags&pd_rd_i=B081XSTYKT&pd_rd_r=79e7204b-d79c-4674-95f4-88a408ed234c&pd_rd_w=OevMn&pd_rd_wg=Qwgrg&pf_rd_p=17756b3a-4504-468b-830d-8b5875afd168&pf_rd_r=YD02ZVC7KJ0R05STBSB6&qid=1644085267&sprefix=golf%2Bbags%2Caps%2C102&sr=1-4-ed8a42d3-65f1-4884-a3a2-0dd6e83b6876&th=1'\n",
    "    headers = {\"User-Agent\": \"Mozilla/5.0 (Windows NT 10.0; Win64; x64) AppleWebKit/537.36 (KHTML, like Gecko) Chrome/97.0.4692.99 Safari/537.36\", \n",
    "    \"X-Amzn-Trace-Id\": \"Root=1-61feb9b8-06ad555128efeb6056e4fb6f\"\n",
    "    }\n",
    "\n",
    "    page = requests.get(URL, headers=headers)\n",
    "    soup1 = BeautifulSoup(page.content, 'html.parser')\n",
    "\n",
    "    soup2 = BeautifulSoup(soup1.prettify(),'html.parser')\n",
    "\n",
    "    title = soup2.find(id= \"productTitle\").get_text()\n",
    "    price = soup2.find(id = 'corePriceDisplay_desktop_feature_div').get_text()\n",
    "\n",
    "    price = float(price.strip()[33:39])\n",
    "    title = title.strip()\n",
    "\n",
    "    import datetime\n",
    "    today = datetime.date.today()\n",
    "    \n",
    "    import csv\n",
    "\n",
    "    header = ['Product', 'Price','Date']\n",
    "    data = [title,price,today]\n",
    "\n",
    "    with open('GolfBagScrapeData.csv','a+', newline='', encoding='UTF8') as f:\n",
    "        writer = csv.writer(f)\n",
    "        writer.writerow(data)\n",
    "\n",
    "    if (price < 150.99):\n",
    "        send_mail()"
   ]
  },
  {
   "cell_type": "code",
   "execution_count": 28,
   "metadata": {},
   "outputs": [],
   "source": [
    "while(True):\n",
    "    check_price()\n",
    "    time.sleep(432000)"
   ]
  },
  {
   "cell_type": "code",
   "execution_count": null,
   "metadata": {},
   "outputs": [],
   "source": [
    "import pandas as pd\n",
    "df = pd.read_csv(r'C:\\Users\\benre\\OneDrive\\Desktop\\Python\\GolfBagScrapeData.csv')\n",
    "df \n"
   ]
  },
  {
   "cell_type": "code",
   "execution_count": null,
   "metadata": {},
   "outputs": [],
   "source": [
    "def send_mail():\n",
    "    server = smtplib.SMTP_SSL('smtp.gmail.com',465)\n",
    "    server.ehlo()\n",
    "    #server.starttls()\n",
    "    server.ehlo()\n",
    "    server.login('Some.email@gmail.com','xxxxxxxxxxx')\n",
    "    \n",
    "    subject = \"This Cobra Golf bag is in your price threshold! Buy Now!\"\n",
    "    body = \"Bronto, Get this bag. Link here: https://www.amazon.com/Cobra-Ultralight-Stand-Shade-Vibrant-Orange/dp/B081XSTYKT/ref=sxin_13_ac_d_mf_br?ac_md=6-3-Q29icmEgR29sZg%3D%3D-ac_d_mf_br_br&crid=30HETM7KEJYWC&cv_ct_cx=golf%2Bbags&keywords=golf%2Bbags&pd_rd_i=B081XSTYKT&pd_rd_r=79e7204b-d79c-4674-95f4-88a408ed234c&pd_rd_w=OevMn&pd_rd_wg=Qwgrg&pf_rd_p=17756b3a-4504-468b-830d-8b5875afd168&pf_rd_r=YD02ZVC7KJ0R05STBSB6&qid=1644085267&sprefix=golf%2Bbags%2Caps%2C102&sr=1-4-ed8a42d3-65f1-4884-a3a2-0dd6e83b6876&th=1\"\n",
    "   \n",
    "    msg = f\"Subject: {subject}\\n\\n{body}\"\n",
    "    \n",
    "    server.sendmail(\n",
    "        'Some.email@gmail.com',\n",
    "        msg\n",
    "     \n",
    "    )"
   ]
  }
 ],
 "metadata": {
  "interpreter": {
   "hash": "e350ec155ec7fd9aa267aa2fdefad18f137d95d612b49e9d6df439b112d77bf5"
  },
  "kernelspec": {
   "display_name": "Python 3.10.2 64-bit",
   "language": "python",
   "name": "python3"
  },
  "language_info": {
   "codemirror_mode": {
    "name": "ipython",
    "version": 3
   },
   "file_extension": ".py",
   "mimetype": "text/x-python",
   "name": "python",
   "nbconvert_exporter": "python",
   "pygments_lexer": "ipython3",
   "version": "3.10.2"
  },
  "orig_nbformat": 4
 },
 "nbformat": 4,
 "nbformat_minor": 2
}
